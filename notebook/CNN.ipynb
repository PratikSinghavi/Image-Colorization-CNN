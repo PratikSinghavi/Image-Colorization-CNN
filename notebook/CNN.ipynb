{
 "cells": [
  {
   "cell_type": "code",
   "execution_count": 1,
   "metadata": {
    "colab": {
     "base_uri": "https://localhost:8080/"
    },
    "id": "vdvwfFPgTfqE",
    "outputId": "174d53a9-0e00-4279-c8f6-5f98cd624c20"
   },
   "outputs": [
    {
     "name": "stderr",
     "output_type": "stream",
     "text": [
      "/usr/local/lib/python3.6/dist-packages/statsmodels/tools/_testing.py:19: FutureWarning: pandas.util.testing is deprecated. Use the functions in the public API at pandas.testing instead.\n",
      "  import pandas.util.testing as tm\n"
     ]
    }
   ],
   "source": [
    "from sklearn.preprocessing import MinMaxScaler\n",
    "from sklearn.cluster import MiniBatchKMeans\n",
    "\n",
    "import keras\n",
    "#from keras.models import Sequential\n",
    "#from keras.layers import Dense\n",
    "#from keras.layers import LSTM \n",
    "from keras.utils import np_utils\n",
    "import tensorflow as tf\n",
    "#from tensorflow import keras\n",
    "from tensorflow.keras import layers\n",
    "from keras.callbacks import ModelCheckpoint\n",
    "from string import punctuation\n",
    "\n",
    "import math\n",
    "import os,sys\n",
    "from scipy.io import arff\n",
    "import numpy as np\n",
    "import pandas as pd\n",
    "import seaborn as sns\n",
    "import matplotlib.pyplot as plt\n",
    "from copy import deepcopy\n",
    "from matplotlib import rcParams\n",
    "import statsmodels.api as sm\n",
    "import re\n",
    "from skimage.color import rgb2gray\n",
    "\n",
    "fixedrstate = 0\n",
    "sns.set_style('white')\n",
    "rcParams['figure.figsize'] = 11.7,8.27\n",
    "\n",
    "import warnings\n",
    "#from pandas.core.common import SettingWithCopyWarning\n",
    "\n",
    "warnings.simplefilter(action=\"ignore\", category=RuntimeWarning)\n",
    "os.environ['TF_CPP_MIN_LOG_LEVEL'] = '3'\n",
    "tf.get_logger().setLevel('ERROR')"
   ]
  },
  {
   "cell_type": "markdown",
   "metadata": {
    "id": "FJiQVrN033__"
   },
   "source": [
    "## 2. (Deep) CNN for Image Colorization"
   ]
  },
  {
   "cell_type": "markdown",
   "metadata": {
    "id": "9n39o89033__"
   },
   "source": [
    "### a) Load the CIFAR-10 dataset"
   ]
  },
  {
   "cell_type": "code",
   "execution_count": 2,
   "metadata": {
    "colab": {
     "base_uri": "https://localhost:8080/"
    },
    "id": "jP-tGErt33__",
    "outputId": "31f2a3e0-1f97-499b-8d26-07e7b92f46ec"
   },
   "outputs": [
    {
     "name": "stdout",
     "output_type": "stream",
     "text": [
      "Downloading data from https://www.cs.toronto.edu/~kriz/cifar-10-python.tar.gz\n",
      "170500096/170498071 [==============================] - 2s 0us/step\n"
     ]
    }
   ],
   "source": [
    "from PIL import Image\n",
    "(X_train, y_train), (X_test, y_test) = tf.keras.datasets.cifar10.load_data()"
   ]
  },
  {
   "cell_type": "code",
   "execution_count": 3,
   "metadata": {
    "id": "bgfhh6hv33__"
   },
   "outputs": [],
   "source": [
    "train_bird_indices = np.where(y_train==2)\n",
    "test_bird_indices = np.where(y_test==2)"
   ]
  },
  {
   "cell_type": "code",
   "execution_count": 4,
   "metadata": {
    "id": "KPQSBQEV33__"
   },
   "outputs": [],
   "source": [
    "train_birds = X_train[train_bird_indices,:][0]\n",
    "test_birds = X_test[test_bird_indices,:][0]"
   ]
  },
  {
   "cell_type": "markdown",
   "metadata": {
    "id": "9z9wlFZF33__"
   },
   "source": [
    "### b) Selecting Bird Images from Train and Test"
   ]
  },
  {
   "cell_type": "code",
   "execution_count": 5,
   "metadata": {
    "id": "Uw1OlVL333__"
   },
   "outputs": [],
   "source": [
    "train_birds.shape\n",
    "test_birds.shape\n",
    "X = np.concatenate((train_birds,test_birds),0)"
   ]
  },
  {
   "cell_type": "code",
   "execution_count": 6,
   "metadata": {
    "id": "TDX2KTzh33__"
   },
   "outputs": [],
   "source": [
    "#X[Image][row][col][r/g/b-0,1,2]\n",
    "#X[:][:][:].flatten().shape#.shape"
   ]
  },
  {
   "cell_type": "code",
   "execution_count": 7,
   "metadata": {
    "id": "Ipcum2Yh33__"
   },
   "outputs": [],
   "source": [
    "#plt.imshow(X_test[test_bird_indices,:][0][233])\n",
    "#plt.imshow(X_kmeans[-1024:].reshape(32,32,3))"
   ]
  },
  {
   "cell_type": "markdown",
   "metadata": {
    "id": "QpAip7kZ33__"
   },
   "source": [
    "### c) Selecting all the pixels for clustering"
   ]
  },
  {
   "cell_type": "code",
   "execution_count": 8,
   "metadata": {
    "colab": {
     "base_uri": "https://localhost:8080/"
    },
    "id": "-8_i1KG333__",
    "outputId": "01c5589e-1f23-4447-a487-a60b9cce639b"
   },
   "outputs": [
    {
     "data": {
      "text/plain": [
       "array([[164, 206,  84],\n",
       "       [105, 140,  61],\n",
       "       [118, 148, 101],\n",
       "       ...,\n",
       "       [156, 179,  95],\n",
       "       [158, 180,  98],\n",
       "       [157, 179,  98]], dtype=uint8)"
      ]
     },
     "execution_count": 8,
     "metadata": {
      "tags": []
     },
     "output_type": "execute_result"
    }
   ],
   "source": [
    "# reshape it for clustering\n",
    "X_kmeans = X.reshape(6144000,3)\n",
    "X_kmeans"
   ]
  },
  {
   "cell_type": "code",
   "execution_count": 9,
   "metadata": {
    "id": "PT3Ghh9e34AA"
   },
   "outputs": [],
   "source": [
    "#plt.imshow(X[0:1024].reshape(32,32,3))"
   ]
  },
  {
   "cell_type": "markdown",
   "metadata": {
    "id": "YuCFyW_h34AB"
   },
   "source": [
    "### d)  Performing K means clustering with selected pixels vectors"
   ]
  },
  {
   "cell_type": "code",
   "execution_count": 10,
   "metadata": {
    "id": "UKCPgfkD34AB"
   },
   "outputs": [],
   "source": [
    "kmeans = MiniBatchKMeans(n_clusters=4,random_state=0)\n",
    "pred_clusters = kmeans.fit_predict(X_kmeans)"
   ]
  },
  {
   "cell_type": "code",
   "execution_count": 11,
   "metadata": {
    "colab": {
     "base_uri": "https://localhost:8080/"
    },
    "id": "G69BzNp234AB",
    "outputId": "33cfcb1a-b09e-424b-d104-640b74770b3b"
   },
   "outputs": [
    {
     "data": {
      "text/plain": [
       "array([0, 1, 2, 3], dtype=int32)"
      ]
     },
     "execution_count": 11,
     "metadata": {
      "tags": []
     },
     "output_type": "execute_result"
    }
   ],
   "source": [
    "np.unique(pred_clusters,return_counts=False)"
   ]
  },
  {
   "cell_type": "code",
   "execution_count": 12,
   "metadata": {
    "id": "SRVh78QF34AB"
   },
   "outputs": [],
   "source": [
    "cluster_centers = kmeans.cluster_centers_/255 "
   ]
  },
  {
   "cell_type": "code",
   "execution_count": 13,
   "metadata": {
    "id": "Jki3f2vUuVxu"
   },
   "outputs": [],
   "source": [
    "# Turn on for using distinct colors instead of the centers (good idea for better visibility)\n",
    "cluster_centers = np.array([[0,0,128],[230, 25, 75],[170, 255, 195],[192, 192, 192]])/255"
   ]
  },
  {
   "cell_type": "markdown",
   "metadata": {
    "id": "E511VFgYx04V"
   },
   "source": [
    "NOTE : The above part does not change the clustering in any way, we simply substitute different colors to represent the pixels for better visibility when comparing our results.\n",
    "Reason for having to do this is that the RGB values in the original cluster centers are very close and using these colors show a very dull/grayscale like image (which makes it harder to visually compare our results)"
   ]
  },
  {
   "cell_type": "code",
   "execution_count": 14,
   "metadata": {
    "id": "lDaZrJwF34AB"
   },
   "outputs": [],
   "source": [
    "new_pixels=np.ndarray(X_kmeans.shape)#np.zeros(X.shape)\n",
    "one_hot_encoded_pixels = []\n",
    "for i in range(pred_clusters.shape[0]):\n",
    "    new_pixels[i]=(np.array(cluster_centers[pred_clusters[i]]))\n",
    "    ohe_vector = np.zeros(4)\n",
    "    ohe_vector[pred_clusters[i]] = 1 \n",
    "    one_hot_encoded_pixels.append(ohe_vector) "
   ]
  },
  {
   "cell_type": "code",
   "execution_count": 15,
   "metadata": {
    "colab": {
     "base_uri": "https://localhost:8080/"
    },
    "id": "9YKtaPDc34AB",
    "outputId": "4bf3da36-8462-4754-8f9c-2e7f3dce2cd3"
   },
   "outputs": [
    {
     "data": {
      "text/plain": [
       "(6144000, 3)"
      ]
     },
     "execution_count": 15,
     "metadata": {
      "tags": []
     },
     "output_type": "execute_result"
    }
   ],
   "source": [
    "new_pixels.shape\n",
    "#one_hot_encoded_pixels[0]"
   ]
  },
  {
   "cell_type": "code",
   "execution_count": 16,
   "metadata": {
    "colab": {
     "base_uri": "https://localhost:8080/"
    },
    "id": "NpajLlzC34AB",
    "outputId": "325061e5-4efa-4c43-a1a3-bf2042de387d"
   },
   "outputs": [
    {
     "data": {
      "text/plain": [
       "array([[0., 0., 0., 1.],\n",
       "       [0., 0., 1., 0.],\n",
       "       [0., 1., 0., 0.],\n",
       "       [1., 0., 0., 0.]])"
      ]
     },
     "execution_count": 16,
     "metadata": {
      "tags": []
     },
     "output_type": "execute_result"
    }
   ],
   "source": [
    "# 4 classes representing each of 4 main_colors\n",
    "np.unique(one_hot_encoded_pixels,axis=0)"
   ]
  },
  {
   "cell_type": "code",
   "execution_count": 17,
   "metadata": {
    "id": "of-E28w634AB"
   },
   "outputs": [],
   "source": [
    "one_hot_encoded_pixels = np.reshape(one_hot_encoded_pixels,(6000,32*32*4))\n",
    "one_hot_encoded_pixels_train = np.reshape(np.array(one_hot_encoded_pixels[:5000]),(5000,32,32,4))\n",
    "one_hot_encoded_pixels_test = np.reshape(np.array(one_hot_encoded_pixels[5000:]),(1000,32,32,4))"
   ]
  },
  {
   "cell_type": "code",
   "execution_count": 18,
   "metadata": {
    "id": "WOnIZbqV34AB"
   },
   "outputs": [],
   "source": [
    "new_images = new_pixels.reshape(6000,32,32,3)\n",
    "#y_train = new_pixels[0:5120000]\n",
    "#y_test = new_pixels[5120000:]"
   ]
  },
  {
   "cell_type": "code",
   "execution_count": 19,
   "metadata": {
    "colab": {
     "base_uri": "https://localhost:8080/",
     "height": 283
    },
    "id": "nTRKrcRY34AB",
    "outputId": "9e1da404-70b4-4ba0-c5b2-73071245c84a"
   },
   "outputs": [
    {
     "data": {
      "text/plain": [
       "<matplotlib.image.AxesImage at 0x7f42b3cbaf60>"
      ]
     },
     "execution_count": 19,
     "metadata": {
      "tags": []
     },
     "output_type": "execute_result"
    },
    {
     "data": {
      "image/png": "[encoded data removed]",
      "text/plain": [
       "<Figure size 432x288 with 1 Axes>"
      ]
     },
     "metadata": {
      "needs_background": "light",
      "tags": []
     },
     "output_type": "display_data"
    }
   ],
   "source": [
    "plt.imshow(new_images[5000])"
   ]
  },
  {
   "cell_type": "markdown",
   "metadata": {
    "id": "pemc8cFj34AC"
   },
   "source": [
    "### e) Convert RGB images to Grayscale"
   ]
  },
  {
   "cell_type": "code",
   "execution_count": 20,
   "metadata": {
    "id": "YGFRd-UM34AC"
   },
   "outputs": [],
   "source": [
    "X_grayscale=np.zeros(shape=(6000,32,32))\n",
    "for i in range(6000):\n",
    "    original = X[i]\n",
    "    X_grayscale[i] = rgb2gray(original)"
   ]
  },
  {
   "cell_type": "code",
   "execution_count": 21,
   "metadata": {
    "colab": {
     "base_uri": "https://localhost:8080/"
    },
    "id": "Uq8Vktbw34AC",
    "outputId": "41567269-a457-4e22-fe99-16a451858ee7"
   },
   "outputs": [
    {
     "data": {
      "text/plain": [
       "(6000, 32, 32)"
      ]
     },
     "execution_count": 21,
     "metadata": {
      "tags": []
     },
     "output_type": "execute_result"
    }
   ],
   "source": [
    "X_grayscale.shape"
   ]
  },
  {
   "cell_type": "code",
   "execution_count": 22,
   "metadata": {
    "id": "HXMnCnUh34AC"
   },
   "outputs": [],
   "source": [
    "#original = X[i]\n",
    "#grayscale = rgb2gray(original)\n",
    "#plt.imshow(grayscale,cmap=plt.cm.gray)"
   ]
  },
  {
   "cell_type": "code",
   "execution_count": 23,
   "metadata": {
    "id": "-AArkcd834AC"
   },
   "outputs": [],
   "source": [
    "# Prepare Train and Test Images\n",
    "X_train_grayscale = X_grayscale[0:5000].reshape((5000,32,32,1))\n",
    "X_test_grayscale = X_grayscale[5000:].reshape((1000,32,32,1))"
   ]
  },
  {
   "cell_type": "code",
   "execution_count": 24,
   "metadata": {
    "colab": {
     "base_uri": "https://localhost:8080/"
    },
    "id": "E2XW70H-34AC",
    "outputId": "e25c73c0-4655-4533-e696-ac9f28960742"
   },
   "outputs": [
    {
     "data": {
      "text/plain": [
       "(5000, 32, 32, 1)"
      ]
     },
     "execution_count": 24,
     "metadata": {
      "tags": []
     },
     "output_type": "execute_result"
    }
   ],
   "source": [
    "X_train_grayscale.shape"
   ]
  },
  {
   "cell_type": "code",
   "execution_count": 25,
   "metadata": {
    "colab": {
     "base_uri": "https://localhost:8080/"
    },
    "id": "qpAEtrXL34AC",
    "outputId": "97a20c10-967a-42ee-d6ed-639ba3f759a9"
   },
   "outputs": [
    {
     "data": {
      "text/plain": [
       "(1000, 32, 32, 1)"
      ]
     },
     "execution_count": 25,
     "metadata": {
      "tags": []
     },
     "output_type": "execute_result"
    }
   ],
   "source": [
    "X_test_grayscale.shape"
   ]
  },
  {
   "cell_type": "markdown",
   "metadata": {
    "id": "2aX-CPEv34AC"
   },
   "source": [
    "### f) CNN "
   ]
  },
  {
   "cell_type": "code",
   "execution_count": 26,
   "metadata": {
    "id": "uds7pTcn34AC"
   },
   "outputs": [],
   "source": [
    "from keras.models import Sequential\n",
    "from keras.layers import Dense, Conv2D, Flatten"
   ]
  },
  {
   "cell_type": "code",
   "execution_count": 27,
   "metadata": {
    "id": "fMK1z-mt34AC"
   },
   "outputs": [],
   "source": [
    "cnn = Sequential()"
   ]
  },
  {
   "cell_type": "code",
   "execution_count": 28,
   "metadata": {
    "id": "l1pU5zSn34AC"
   },
   "outputs": [],
   "source": [
    "#Good Model - learns slowly but lighter (less parameters)\n",
    "# cnn.add(tf.keras.layers.Conv2D( 128 ,(5,5),strides=1,padding='same',input_shape=(32,32,1),activation='relu' ))\n",
    "# cnn.add(tf.keras.layers.MaxPooling2D( (2,2),strides=1,padding='same'   ))\n",
    "# cnn.add(tf.keras.layers.Conv2D( 128 ,(5,5),strides=1,padding='same' ,activation='relu'   ))\n",
    "# cnn.add(tf.keras.layers.MaxPooling2D( (2,2),strides=1,padding='same'   ))\n",
    "# cnn.add(tf.keras.layers.Flatten())\n",
    "# cnn.add(tf.keras.layers.Dense(512, activation='relu'))\n",
    "# cnn.add(tf.keras.layers.Dense(4096, activation='softmax'))\n",
    "# cnn.add(tf.keras.layers.Reshape( (32,32,4)))\n",
    "\n",
    "\n",
    "# Better model - learns faster but heavier\n",
    "cnn.add(tf.keras.layers.Conv2D( 256 ,(5,5),strides=1,padding='same',input_shape=(32,32,1),activation='relu' ))\n",
    "cnn.add(tf.keras.layers.MaxPooling2D( (2,2),strides=1,padding='same'   ))\n",
    "cnn.add(tf.keras.layers.Conv2D( 256 ,(5,5),strides=1,padding='same' ,activation='relu'   ))\n",
    "cnn.add(tf.keras.layers.MaxPooling2D( (2,2),strides=1,padding='same'   ))\n",
    "cnn.add(tf.keras.layers.Flatten())\n",
    "cnn.add(tf.keras.layers.Dense(2048, activation='relu'))\n",
    "cnn.add(tf.keras.layers.Dense(4096, activation='softmax'))\n",
    "cnn.add(tf.keras.layers.Reshape( (32,32,4)))"
   ]
  },
  {
   "cell_type": "code",
   "execution_count": 29,
   "metadata": {
    "colab": {
     "base_uri": "https://localhost:8080/"
    },
    "id": "C4r9_J5O34AC",
    "outputId": "da7f9381-5a0b-4c51-c786-c83c88fcc345"
   },
   "outputs": [
    {
     "name": "stdout",
     "output_type": "stream",
     "text": [
      "Model: \"sequential\"\n",
      "_________________________________________________________________\n",
      "Layer (type)                 Output Shape              Param #   \n",
      "=================================================================\n",
      "conv2d (Conv2D)              (None, 32, 32, 256)       6656      \n",
      "_________________________________________________________________\n",
      "max_pooling2d (MaxPooling2D) (None, 32, 32, 256)       0         \n",
      "_________________________________________________________________\n",
      "conv2d_1 (Conv2D)            (None, 32, 32, 256)       1638656   \n",
      "_________________________________________________________________\n",
      "max_pooling2d_1 (MaxPooling2 (None, 32, 32, 256)       0         \n",
      "_________________________________________________________________\n",
      "flatten (Flatten)            (None, 262144)            0         \n",
      "_________________________________________________________________\n",
      "dense (Dense)                (None, 2048)              536872960 \n",
      "_________________________________________________________________\n",
      "dense_1 (Dense)              (None, 4096)              8392704   \n",
      "_________________________________________________________________\n",
      "reshape (Reshape)            (None, 32, 32, 4)         0         \n",
      "=================================================================\n",
      "Total params: 546,910,976\n",
      "Trainable params: 546,910,976\n",
      "Non-trainable params: 0\n",
      "_________________________________________________________________\n"
     ]
    }
   ],
   "source": [
    "optimizer = tf.keras.optimizers.Adam(learning_rate=0.001)\n",
    "cnn.compile(optimizer=optimizer, loss='categorical_crossentropy', metrics=['accuracy'])\n",
    "cnn.summary()"
   ]
  },
  {
   "cell_type": "code",
   "execution_count": 30,
   "metadata": {
    "id": "gpluPuTa34AC"
   },
   "outputs": [],
   "source": [
    "# Checkpointing provision - use if required\n",
    "filepath=\"cnn-weights-improvement-{epoch:02d}-{loss:.4f}.hdf5\"\n",
    "checkpoint = ModelCheckpoint(filepath, monitor='loss', verbose=1, save_best_only=True, mode='min')\n",
    "callbacks_list = [checkpoint]"
   ]
  },
  {
   "cell_type": "code",
   "execution_count": 31,
   "metadata": {
    "colab": {
     "base_uri": "https://localhost:8080/"
    },
    "id": "uYqSUWAb34AC",
    "outputId": "2cddaf16-28cb-4915-8ed3-5821685f3e69"
   },
   "outputs": [
    {
     "name": "stdout",
     "output_type": "stream",
     "text": [
      "Epoch : 1\n",
      "141/141 [==============================] - 20s 139ms/step - loss: 1.1560 - accuracy: 0.4528 - val_loss: 0.9000 - val_accuracy: 0.6015\n",
      "32/32 [==============================] - 1s 21ms/step - loss: 0.9159 - accuracy: 0.5942\n",
      "saving weights\n",
      "Epoch : 2\n",
      "141/141 [==============================] - 20s 139ms/step - loss: 0.8544 - accuracy: 0.6194 - val_loss: 0.8079 - val_accuracy: 0.6379\n",
      "32/32 [==============================] - 1s 19ms/step - loss: 0.8215 - accuracy: 0.6341\n",
      "saving weights\n",
      "Epoch : 3\n",
      "141/141 [==============================] - 20s 141ms/step - loss: 0.7700 - accuracy: 0.6600 - val_loss: 0.7478 - val_accuracy: 0.6711\n",
      "32/32 [==============================] - 1s 19ms/step - loss: 0.7662 - accuracy: 0.6603\n",
      "saving weights\n",
      "Epoch : 4\n",
      "141/141 [==============================] - 20s 144ms/step - loss: 0.7150 - accuracy: 0.6851 - val_loss: 0.7527 - val_accuracy: 0.6640\n",
      "32/32 [==============================] - 1s 19ms/step - loss: 0.7588 - accuracy: 0.6593\n",
      "saving weights\n",
      "Epoch : 5\n",
      "141/141 [==============================] - 20s 144ms/step - loss: 0.6759 - accuracy: 0.7028 - val_loss: 0.7087 - val_accuracy: 0.6846\n",
      "32/32 [==============================] - 1s 20ms/step - loss: 0.7142 - accuracy: 0.6837\n",
      "saving weights\n",
      "Epoch : 6\n",
      "141/141 [==============================] - 20s 141ms/step - loss: 0.6385 - accuracy: 0.7208 - val_loss: 0.6926 - val_accuracy: 0.6968\n",
      "32/32 [==============================] - 1s 20ms/step - loss: 0.7044 - accuracy: 0.6891\n",
      "saving weights\n",
      "Epoch : 7\n",
      "141/141 [==============================] - 20s 140ms/step - loss: 0.6130 - accuracy: 0.7330 - val_loss: 0.6657 - val_accuracy: 0.7079\n",
      "32/32 [==============================] - 1s 19ms/step - loss: 0.6787 - accuracy: 0.7020\n",
      "saving weights\n",
      "Epoch : 8\n",
      "141/141 [==============================] - 20s 140ms/step - loss: 0.5731 - accuracy: 0.7528 - val_loss: 0.6809 - val_accuracy: 0.7033\n",
      "32/32 [==============================] - 1s 20ms/step - loss: 0.6917 - accuracy: 0.6962\n",
      "Epoch : 9\n",
      "141/141 [==============================] - 20s 140ms/step - loss: 0.5422 - accuracy: 0.7669 - val_loss: 0.6731 - val_accuracy: 0.7060\n",
      "32/32 [==============================] - 1s 19ms/step - loss: 0.6824 - accuracy: 0.7048\n",
      "Epoch : 10\n",
      "141/141 [==============================] - 20s 140ms/step - loss: 0.5088 - accuracy: 0.7825 - val_loss: 0.6591 - val_accuracy: 0.7119\n",
      "32/32 [==============================] - 1s 20ms/step - loss: 0.6672 - accuracy: 0.7114\n",
      "saving weights\n",
      "Epoch : 11\n",
      "141/141 [==============================] - 20s 140ms/step - loss: 0.4853 - accuracy: 0.7934 - val_loss: 0.6752 - val_accuracy: 0.7087\n",
      "32/32 [==============================] - 1s 19ms/step - loss: 0.6821 - accuracy: 0.7080\n",
      "Epoch : 12\n",
      "141/141 [==============================] - 20s 140ms/step - loss: 0.4636 - accuracy: 0.8037 - val_loss: 0.6753 - val_accuracy: 0.7149\n",
      "32/32 [==============================] - 1s 19ms/step - loss: 0.6886 - accuracy: 0.7100\n",
      "Epoch : 13\n",
      "141/141 [==============================] - 20s 141ms/step - loss: 0.4443 - accuracy: 0.8124 - val_loss: 0.6653 - val_accuracy: 0.7156\n",
      "32/32 [==============================] - 1s 20ms/step - loss: 0.6759 - accuracy: 0.7135\n",
      "Epoch : 14\n",
      "141/141 [==============================] - 20s 141ms/step - loss: 0.4218 - accuracy: 0.8227 - val_loss: 0.6742 - val_accuracy: 0.7173\n",
      "32/32 [==============================] - 1s 20ms/step - loss: 0.6812 - accuracy: 0.7152\n",
      "Epoch : 15\n",
      "141/141 [==============================] - 20s 142ms/step - loss: 0.4055 - accuracy: 0.8301 - val_loss: 0.6795 - val_accuracy: 0.7153\n",
      "32/32 [==============================] - 1s 20ms/step - loss: 0.6906 - accuracy: 0.7124\n",
      "Epoch : 16\n",
      "141/141 [==============================] - 20s 142ms/step - loss: 0.3887 - accuracy: 0.8375 - val_loss: 0.6918 - val_accuracy: 0.7171\n",
      "32/32 [==============================] - 1s 20ms/step - loss: 0.7049 - accuracy: 0.7145\n",
      "Epoch : 17\n",
      "141/141 [==============================] - 20s 142ms/step - loss: 0.3773 - accuracy: 0.8425 - val_loss: 0.6959 - val_accuracy: 0.7182\n",
      "32/32 [==============================] - 1s 19ms/step - loss: 0.7108 - accuracy: 0.7146\n",
      "Epoch : 18\n",
      "141/141 [==============================] - 20s 143ms/step - loss: 0.3623 - accuracy: 0.8491 - val_loss: 0.7095 - val_accuracy: 0.7169\n",
      "32/32 [==============================] - 1s 20ms/step - loss: 0.7198 - accuracy: 0.7150\n",
      "Epoch : 19\n",
      "141/141 [==============================] - 20s 143ms/step - loss: 0.3509 - accuracy: 0.8543 - val_loss: 0.7188 - val_accuracy: 0.7156\n",
      "32/32 [==============================] - 1s 19ms/step - loss: 0.7297 - accuracy: 0.7150\n",
      "Epoch : 20\n",
      "141/141 [==============================] - 20s 143ms/step - loss: 0.3441 - accuracy: 0.8570 - val_loss: 0.7174 - val_accuracy: 0.7164\n",
      "32/32 [==============================] - 1s 20ms/step - loss: 0.7306 - accuracy: 0.7148\n",
      "Epoch : 21\n",
      "141/141 [==============================] - 20s 143ms/step - loss: 0.3355 - accuracy: 0.8609 - val_loss: 0.7363 - val_accuracy: 0.7163\n",
      "32/32 [==============================] - 1s 20ms/step - loss: 0.7488 - accuracy: 0.7141\n",
      "Epoch : 22\n",
      "141/141 [==============================] - 20s 143ms/step - loss: 0.3285 - accuracy: 0.8639 - val_loss: 0.7475 - val_accuracy: 0.7184\n",
      "32/32 [==============================] - 1s 19ms/step - loss: 0.7614 - accuracy: 0.7158\n",
      "Epoch : 23\n",
      "141/141 [==============================] - 20s 143ms/step - loss: 0.3209 - accuracy: 0.8670 - val_loss: 0.7600 - val_accuracy: 0.7130\n",
      "32/32 [==============================] - 1s 20ms/step - loss: 0.7719 - accuracy: 0.7118\n",
      "Epoch : 24\n",
      "141/141 [==============================] - 20s 144ms/step - loss: 0.3170 - accuracy: 0.8686 - val_loss: 0.7614 - val_accuracy: 0.7166\n",
      "32/32 [==============================] - 1s 20ms/step - loss: 0.7788 - accuracy: 0.7146\n",
      "Epoch : 25\n",
      "141/141 [==============================] - 20s 144ms/step - loss: 0.3043 - accuracy: 0.8745 - val_loss: 0.7638 - val_accuracy: 0.7153\n",
      "32/32 [==============================] - 1s 19ms/step - loss: 0.7816 - accuracy: 0.7131\n",
      "Epoch : 26\n",
      "141/141 [==============================] - 20s 144ms/step - loss: 0.2965 - accuracy: 0.8777 - val_loss: 0.7791 - val_accuracy: 0.7152\n",
      "32/32 [==============================] - 1s 19ms/step - loss: 0.7994 - accuracy: 0.7133\n",
      "Epoch : 27\n",
      "141/141 [==============================] - 20s 144ms/step - loss: 0.2906 - accuracy: 0.8802 - val_loss: 0.8124 - val_accuracy: 0.7168\n",
      "32/32 [==============================] - 1s 19ms/step - loss: 0.8309 - accuracy: 0.7153\n",
      "Epoch : 28\n",
      "141/141 [==============================] - 20s 144ms/step - loss: 0.2825 - accuracy: 0.8839 - val_loss: 0.8150 - val_accuracy: 0.7174\n",
      "32/32 [==============================] - 1s 19ms/step - loss: 0.8380 - accuracy: 0.7141\n",
      "Epoch : 29\n",
      "141/141 [==============================] - 20s 144ms/step - loss: 0.2777 - accuracy: 0.8858 - val_loss: 0.8213 - val_accuracy: 0.7154\n",
      "32/32 [==============================] - 1s 20ms/step - loss: 0.8415 - accuracy: 0.7125\n",
      "Epoch : 30\n",
      "141/141 [==============================] - 20s 144ms/step - loss: 0.2721 - accuracy: 0.8884 - val_loss: 0.8356 - val_accuracy: 0.7128\n",
      "32/32 [==============================] - 1s 20ms/step - loss: 0.8534 - accuracy: 0.7119\n"
     ]
    }
   ],
   "source": [
    "#Training the Model\n",
    "epochs = 30\n",
    "epochs_log = []\n",
    "best_test_error = 100 # random high number\n",
    "for i in range(epochs):\n",
    "    print('Epoch :',i+1)\n",
    "    epoch_history = cnn.fit(X_train_grayscale,one_hot_encoded_pixels_train,shuffle=True,epochs=1,validation_split=0.1,verbose=1)#,callbacks=callbacks_list)\n",
    "    test_error = cnn.evaluate(X_test_grayscale,one_hot_encoded_pixels_test,verbose=1)[0]\n",
    "   \n",
    "    if best_test_error > test_error:\n",
    "      best_test_error = test_error\n",
    "      print('saving weights')\n",
    "      cnn.save_weights('best-cnn-weights.hdf5')\n",
    "\n",
    "    epochs_log.append({'epochs':i+1,'train_error':epoch_history.history['loss'][0],'validation_error':epoch_history.history['val_loss'][0],'test_error':test_error})\n",
    "\n",
    "epochs_log = pd.DataFrame(epochs_log)"
   ]
  },
  {
   "cell_type": "markdown",
   "metadata": {
    "id": "-j7BB7-O3NxF"
   },
   "source": [
    "## Train, Validation and Test errors"
   ]
  },
  {
   "cell_type": "code",
   "execution_count": 32,
   "metadata": {
    "colab": {
     "base_uri": "https://localhost:8080/",
     "height": 979
    },
    "id": "6rym4ypl6Wab",
    "outputId": "d54bdb59-4b9f-4f7b-f78c-067047bea9aa"
   },
   "outputs": [
    {
     "data": {
      "text/html": [
       "<div>\n",
       "<style scoped>\n",
       "    .dataframe tbody tr th:only-of-type {\n",
       "        vertical-align: middle;\n",
       "    }\n",
       "\n",
       "    .dataframe tbody tr th {\n",
       "        vertical-align: top;\n",
       "    }\n",
       "\n",
       "    .dataframe thead th {\n",
       "        text-align: right;\n",
       "    }\n",
       "</style>\n",
       "<table border=\"1\" class=\"dataframe\">\n",
       "  <thead>\n",
       "    <tr style=\"text-align: right;\">\n",
       "      <th></th>\n",
       "      <th>epochs</th>\n",
       "      <th>train_error</th>\n",
       "      <th>validation_error</th>\n",
       "      <th>test_error</th>\n",
       "    </tr>\n",
       "  </thead>\n",
       "  <tbody>\n",
       "    <tr>\n",
       "      <th>0</th>\n",
       "      <td>1</td>\n",
       "      <td>1.156032</td>\n",
       "      <td>0.899977</td>\n",
       "      <td>0.915870</td>\n",
       "    </tr>\n",
       "    <tr>\n",
       "      <th>1</th>\n",
       "      <td>2</td>\n",
       "      <td>0.854442</td>\n",
       "      <td>0.807864</td>\n",
       "      <td>0.821496</td>\n",
       "    </tr>\n",
       "    <tr>\n",
       "      <th>2</th>\n",
       "      <td>3</td>\n",
       "      <td>0.769997</td>\n",
       "      <td>0.747753</td>\n",
       "      <td>0.766151</td>\n",
       "    </tr>\n",
       "    <tr>\n",
       "      <th>3</th>\n",
       "      <td>4</td>\n",
       "      <td>0.715018</td>\n",
       "      <td>0.752654</td>\n",
       "      <td>0.758827</td>\n",
       "    </tr>\n",
       "    <tr>\n",
       "      <th>4</th>\n",
       "      <td>5</td>\n",
       "      <td>0.675915</td>\n",
       "      <td>0.708710</td>\n",
       "      <td>0.714153</td>\n",
       "    </tr>\n",
       "    <tr>\n",
       "      <th>5</th>\n",
       "      <td>6</td>\n",
       "      <td>0.638513</td>\n",
       "      <td>0.692646</td>\n",
       "      <td>0.704353</td>\n",
       "    </tr>\n",
       "    <tr>\n",
       "      <th>6</th>\n",
       "      <td>7</td>\n",
       "      <td>0.612970</td>\n",
       "      <td>0.665731</td>\n",
       "      <td>0.678716</td>\n",
       "    </tr>\n",
       "    <tr>\n",
       "      <th>7</th>\n",
       "      <td>8</td>\n",
       "      <td>0.573087</td>\n",
       "      <td>0.680892</td>\n",
       "      <td>0.691662</td>\n",
       "    </tr>\n",
       "    <tr>\n",
       "      <th>8</th>\n",
       "      <td>9</td>\n",
       "      <td>0.542157</td>\n",
       "      <td>0.673095</td>\n",
       "      <td>0.682424</td>\n",
       "    </tr>\n",
       "    <tr>\n",
       "      <th>9</th>\n",
       "      <td>10</td>\n",
       "      <td>0.508803</td>\n",
       "      <td>0.659100</td>\n",
       "      <td>0.667174</td>\n",
       "    </tr>\n",
       "    <tr>\n",
       "      <th>10</th>\n",
       "      <td>11</td>\n",
       "      <td>0.485346</td>\n",
       "      <td>0.675214</td>\n",
       "      <td>0.682121</td>\n",
       "    </tr>\n",
       "    <tr>\n",
       "      <th>11</th>\n",
       "      <td>12</td>\n",
       "      <td>0.463623</td>\n",
       "      <td>0.675286</td>\n",
       "      <td>0.688596</td>\n",
       "    </tr>\n",
       "    <tr>\n",
       "      <th>12</th>\n",
       "      <td>13</td>\n",
       "      <td>0.444294</td>\n",
       "      <td>0.665296</td>\n",
       "      <td>0.675926</td>\n",
       "    </tr>\n",
       "    <tr>\n",
       "      <th>13</th>\n",
       "      <td>14</td>\n",
       "      <td>0.421787</td>\n",
       "      <td>0.674182</td>\n",
       "      <td>0.681202</td>\n",
       "    </tr>\n",
       "    <tr>\n",
       "      <th>14</th>\n",
       "      <td>15</td>\n",
       "      <td>0.405511</td>\n",
       "      <td>0.679482</td>\n",
       "      <td>0.690647</td>\n",
       "    </tr>\n",
       "    <tr>\n",
       "      <th>15</th>\n",
       "      <td>16</td>\n",
       "      <td>0.388746</td>\n",
       "      <td>0.691820</td>\n",
       "      <td>0.704857</td>\n",
       "    </tr>\n",
       "    <tr>\n",
       "      <th>16</th>\n",
       "      <td>17</td>\n",
       "      <td>0.377266</td>\n",
       "      <td>0.695866</td>\n",
       "      <td>0.710770</td>\n",
       "    </tr>\n",
       "    <tr>\n",
       "      <th>17</th>\n",
       "      <td>18</td>\n",
       "      <td>0.362308</td>\n",
       "      <td>0.709528</td>\n",
       "      <td>0.719792</td>\n",
       "    </tr>\n",
       "    <tr>\n",
       "      <th>18</th>\n",
       "      <td>19</td>\n",
       "      <td>0.350931</td>\n",
       "      <td>0.718780</td>\n",
       "      <td>0.729680</td>\n",
       "    </tr>\n",
       "    <tr>\n",
       "      <th>19</th>\n",
       "      <td>20</td>\n",
       "      <td>0.344085</td>\n",
       "      <td>0.717409</td>\n",
       "      <td>0.730591</td>\n",
       "    </tr>\n",
       "    <tr>\n",
       "      <th>20</th>\n",
       "      <td>21</td>\n",
       "      <td>0.335460</td>\n",
       "      <td>0.736300</td>\n",
       "      <td>0.748756</td>\n",
       "    </tr>\n",
       "    <tr>\n",
       "      <th>21</th>\n",
       "      <td>22</td>\n",
       "      <td>0.328500</td>\n",
       "      <td>0.747501</td>\n",
       "      <td>0.761378</td>\n",
       "    </tr>\n",
       "    <tr>\n",
       "      <th>22</th>\n",
       "      <td>23</td>\n",
       "      <td>0.320922</td>\n",
       "      <td>0.760021</td>\n",
       "      <td>0.771898</td>\n",
       "    </tr>\n",
       "    <tr>\n",
       "      <th>23</th>\n",
       "      <td>24</td>\n",
       "      <td>0.316996</td>\n",
       "      <td>0.761447</td>\n",
       "      <td>0.778821</td>\n",
       "    </tr>\n",
       "    <tr>\n",
       "      <th>24</th>\n",
       "      <td>25</td>\n",
       "      <td>0.304307</td>\n",
       "      <td>0.763848</td>\n",
       "      <td>0.781581</td>\n",
       "    </tr>\n",
       "    <tr>\n",
       "      <th>25</th>\n",
       "      <td>26</td>\n",
       "      <td>0.296506</td>\n",
       "      <td>0.779072</td>\n",
       "      <td>0.799367</td>\n",
       "    </tr>\n",
       "    <tr>\n",
       "      <th>26</th>\n",
       "      <td>27</td>\n",
       "      <td>0.290636</td>\n",
       "      <td>0.812380</td>\n",
       "      <td>0.830878</td>\n",
       "    </tr>\n",
       "    <tr>\n",
       "      <th>27</th>\n",
       "      <td>28</td>\n",
       "      <td>0.282469</td>\n",
       "      <td>0.815009</td>\n",
       "      <td>0.837999</td>\n",
       "    </tr>\n",
       "    <tr>\n",
       "      <th>28</th>\n",
       "      <td>29</td>\n",
       "      <td>0.277694</td>\n",
       "      <td>0.821305</td>\n",
       "      <td>0.841473</td>\n",
       "    </tr>\n",
       "    <tr>\n",
       "      <th>29</th>\n",
       "      <td>30</td>\n",
       "      <td>0.272052</td>\n",
       "      <td>0.835586</td>\n",
       "      <td>0.853391</td>\n",
       "    </tr>\n",
       "  </tbody>\n",
       "</table>\n",
       "</div>"
      ],
      "text/plain": [
       "    epochs  train_error  validation_error  test_error\n",
       "0        1     1.156032          0.899977    0.915870\n",
       "1        2     0.854442          0.807864    0.821496\n",
       "2        3     0.769997          0.747753    0.766151\n",
       "3        4     0.715018          0.752654    0.758827\n",
       "4        5     0.675915          0.708710    0.714153\n",
       "5        6     0.638513          0.692646    0.704353\n",
       "6        7     0.612970          0.665731    0.678716\n",
       "7        8     0.573087          0.680892    0.691662\n",
       "8        9     0.542157          0.673095    0.682424\n",
       "9       10     0.508803          0.659100    0.667174\n",
       "10      11     0.485346          0.675214    0.682121\n",
       "11      12     0.463623          0.675286    0.688596\n",
       "12      13     0.444294          0.665296    0.675926\n",
       "13      14     0.421787          0.674182    0.681202\n",
       "14      15     0.405511          0.679482    0.690647\n",
       "15      16     0.388746          0.691820    0.704857\n",
       "16      17     0.377266          0.695866    0.710770\n",
       "17      18     0.362308          0.709528    0.719792\n",
       "18      19     0.350931          0.718780    0.729680\n",
       "19      20     0.344085          0.717409    0.730591\n",
       "20      21     0.335460          0.736300    0.748756\n",
       "21      22     0.328500          0.747501    0.761378\n",
       "22      23     0.320922          0.760021    0.771898\n",
       "23      24     0.316996          0.761447    0.778821\n",
       "24      25     0.304307          0.763848    0.781581\n",
       "25      26     0.296506          0.779072    0.799367\n",
       "26      27     0.290636          0.812380    0.830878\n",
       "27      28     0.282469          0.815009    0.837999\n",
       "28      29     0.277694          0.821305    0.841473\n",
       "29      30     0.272052          0.835586    0.853391"
      ]
     },
     "execution_count": 32,
     "metadata": {
      "tags": []
     },
     "output_type": "execute_result"
    }
   ],
   "source": [
    "# Tabulated train,validation and test errors per epoch\n",
    "epochs_log"
   ]
  },
  {
   "cell_type": "code",
   "execution_count": 33,
   "metadata": {
    "colab": {
     "base_uri": "https://localhost:8080/",
     "height": 308
    },
    "id": "15Vao7RGB47o",
    "outputId": "23ded9b7-bf5a-4862-a484-1ecd7b315c09"
   },
   "outputs": [
    {
     "data": {
      "text/plain": [
       "Text(0.5, 1.0, 'Train,Validation and Test Errors per epoch')"
      ]
     },
     "execution_count": 33,
     "metadata": {
      "tags": []
     },
     "output_type": "execute_result"
    },
    {
     "data": {
      "image/png": "[encoded data removed]",
      "text/plain": [
       "<Figure size 432x288 with 1 Axes>"
      ]
     },
     "metadata": {
      "tags": []
     },
     "output_type": "display_data"
    }
   ],
   "source": [
    "plt.style.use(\"seaborn-whitegrid\")\n",
    "epochs_log.plot('epochs',['train_error','test_error','validation_error'])\n",
    "plt.xlim(0,30)\n",
    "plt.ylabel('error')\n",
    "plt.xlabel('epochs')\n",
    "plt.title('Train,Validation and Test Errors per epoch')"
   ]
  },
  {
   "cell_type": "markdown",
   "metadata": {
    "id": "RUhX-Ju_2QlM"
   },
   "source": [
    "From the above plot, we can observe the standard train vs test learning curve. With each increasing epoch, the model tries to estimate the train data even better and begins to overfit. A good training epoch number would be 10, around which we obtain the lowest test error. As expected, the validation closely follows the test error."
   ]
  },
  {
   "cell_type": "code",
   "execution_count": 34,
   "metadata": {
    "id": "KeYq-b1D34AC"
   },
   "outputs": [],
   "source": [
    "#Loading the best model - uncomment when required\n",
    "#weights_file = 'best-cnn-weights.hdf5'\n",
    "#cnn.load_weights(weights_file)\n",
    "#cnn.compile(loss='categorical_crossentropy', optimizer='adam')"
   ]
  },
  {
   "cell_type": "code",
   "execution_count": 35,
   "metadata": {
    "colab": {
     "base_uri": "https://localhost:8080/"
    },
    "id": "pbSWAJ_YBIbS",
    "outputId": "843dbc22-173e-4c06-b1ae-19a5c4d0eb85"
   },
   "outputs": [
    {
     "name": "stdout",
     "output_type": "stream",
     "text": [
      "32/32 [==============================] - 1s 19ms/step - loss: 0.8534 - accuracy: 0.7119\n"
     ]
    },
    {
     "data": {
      "text/plain": [
       "[0.8533909916877747, 0.7118788957595825]"
      ]
     },
     "execution_count": 35,
     "metadata": {
      "tags": []
     },
     "output_type": "execute_result"
    }
   ],
   "source": [
    "cnn.evaluate(X_test_grayscale,one_hot_encoded_pixels_test,verbose=1)#[0]"
   ]
  },
  {
   "cell_type": "code",
   "execution_count": 36,
   "metadata": {
    "id": "Iu4YBe1534AD"
   },
   "outputs": [],
   "source": [
    "# conversion to the predicted image using softmax\n",
    "def predicted_img(grayscale_img):\n",
    "  res = cnn.predict(grayscale_img.reshape(1,32,32,1))\n",
    "\n",
    "  resn = []\n",
    "  for i in res[0]:\n",
    "      argmax = np.argmax(i,axis=1)\n",
    "      #print(argmax)\n",
    "      resn.append(argmax)\n",
    "\n",
    "  resimg = lambda x: cluster_centers[x]\n",
    "  #plt.imshow(finalimg)\n",
    "  finalimg = resimg(resn)\n",
    "  return finalimg"
   ]
  },
  {
   "cell_type": "code",
   "execution_count": 37,
   "metadata": {
    "id": "T5cGd_l2lHN6"
   },
   "outputs": [],
   "source": [
    "#predicted_img(X_test_grayscale[4])#,predicted_img(X_test_grayscale[0])"
   ]
  },
  {
   "cell_type": "code",
   "execution_count": 38,
   "metadata": {
    "id": "IvYa9U7zmjMe"
   },
   "outputs": [],
   "source": [
    "#plt.imshow(new_images[5004])"
   ]
  },
  {
   "cell_type": "code",
   "execution_count": 39,
   "metadata": {
    "id": "qCyCPy6_mujh"
   },
   "outputs": [],
   "source": [
    "#plt.imshow(X[5004])"
   ]
  },
  {
   "cell_type": "markdown",
   "metadata": {
    "id": "gGXdIwl1FxMG"
   },
   "source": [
    "### Visually Inspecting the arificially colored image with original images"
   ]
  },
  {
   "cell_type": "code",
   "execution_count": 40,
   "metadata": {
    "colab": {
     "base_uri": "https://localhost:8080/",
     "height": 591
    },
    "id": "i-7Bgh-Mo0Ot",
    "outputId": "9e9c7cad-c777-4494-fb85-daf78eadfa1e"
   },
   "outputs": [
    {
     "name": "stdout",
     "output_type": "stream",
     "text": [
      "Color | Grayscale | K-colored | Predicted\n"
     ]
    },
    {
     "data": {
      "image/png": "[encoded data removed]",
      "text/plain": [
       "<Figure size 288x720 with 40 Axes>"
      ]
     },
     "metadata": {
      "tags": []
     },
     "output_type": "display_data"
    }
   ],
   "source": [
    "print('Color |','Grayscale |','K-colored |','Predicted')\n",
    "fig = plt.figure(figsize=(4,10))\n",
    "for i in range(40):\n",
    "  axis = fig.add_subplot(10,4,i+1)\n",
    "  if i%4==0:\n",
    "    plt.imshow(X[5000+int(i/4)])\n",
    "  elif i%4==1:\n",
    "    plt.imshow(X_test_grayscale[int(i/4)].reshape(32,32),cmap='gray')\n",
    "  elif i%4==2:\n",
    "    plt.imshow(new_images[5000+int(i/4)])\n",
    "  else:\n",
    "    plt.imshow(predicted_img(X_test_grayscale[int(i/4)]))\n",
    "  plt.axis('off')\n",
    "plt.show()"
   ]
  },
  {
   "cell_type": "markdown",
   "metadata": {
    "id": "I_Zo4OSWyZ9h"
   },
   "source": [
    "* The 'Color' column shows the original 32x32 RGB images from the CIFAR-10 dataset\n",
    "* The 'Grayscale' column shows the 32x32 images from the CIFAR-10 dataset converted to Grayscale. These are the inputs to our Convolutional Neural Network.\n",
    "* The 'K-colored' column shows the images formed after k-means clustering (k=4) i.e the image made using just 4 main colors. This is what we are trying to predict as closely as possible using our CNN.\n",
    "* The 'Predicted' columns show the predicted/output image of our CNN.\n",
    "\n",
    "From the above we observe that we gained a sufficiently close representation using just 2 Convolutional layers, 2 maxpool, 2 MLP(dense) and a softmax output layer in 30 epochs (Flatten and reshape layers are added for convenient handling of the outputs)\n",
    "\n",
    "This is a simplified task since only 4 colors were involved, We could experiment with a larger color gamut given the required processing power and further more complex architecture to obtain the original colored image as well."
   ]
  },
  {
   "cell_type": "markdown",
   "metadata": {
    "id": "VGn-OBc434AD"
   },
   "source": [
    "### Citations & References\n",
    "* https://stackoverflow.com/questions/47125723/keras-lstm-for-text-generation-keeps-repeating-a-line-or-a-sequence [1]\n",
    "* https://en.wikipedia.org/wiki/Softmax_function#Reinforcement_learning [2]\n",
    "* https://machinelearningmastery.com/text-generation-lstm-recurrent-neural-networks-python-keras/ [3]\n",
    "* https://numpy.org/doc/stable/reference/random/generated/numpy.random.multinomial.html [4]\n",
    "* https://keras.io/api/layers/convolution_layers/convolution2d/ [5]\n",
    "* https://machinelearningmastery.com/pooling-layers-for-convolutional-neural-networks/ [6]\n",
    "* https://adventuresinmachinelearning.com/keras-tutorial-cnn-11-lines/ [7]\n",
    "* https://matplotlib.org/api/_as_gen/matplotlib.pyplot.subplot.html [8]"
   ]
  },
  {
   "cell_type": "code",
   "execution_count": 40,
   "metadata": {
    "id": "xvzL7zXt7f2X"
   },
   "outputs": [],
   "source": []
  }
 ],
 "metadata": {
  "accelerator": "GPU",
  "colab": {
   "name": "HW7.2.ipynb",
   "provenance": [],
   "toc_visible": true
  },
  "kernelspec": {
   "display_name": "Python 3",
   "language": "python",
   "name": "python3"
  },
  "language_info": {
   "codemirror_mode": {
    "name": "ipython",
    "version": 3
   },
   "file_extension": ".py",
   "mimetype": "text/x-python",
   "name": "python",
   "nbconvert_exporter": "python",
   "pygments_lexer": "ipython3",
   "version": "3.8.8"
  }
 },
 "nbformat": 4,
 "nbformat_minor": 1
}
